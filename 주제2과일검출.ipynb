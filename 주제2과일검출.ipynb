{
  "nbformat": 4,
  "nbformat_minor": 0,
  "metadata": {
    "colab": {
      "name": "Untitled3.ipynb",
      "provenance": [],
      "authorship_tag": "ABX9TyPHbyG7+7JNS2AQGg9/9+Zr",
      "include_colab_link": true
    },
    "kernelspec": {
      "name": "python3",
      "display_name": "Python 3"
    },
    "language_info": {
      "name": "python"
    }
  },
  "cells": [
    {
      "cell_type": "markdown",
      "metadata": {
        "id": "view-in-github",
        "colab_type": "text"
      },
      "source": [
        "<a href=\"https://colab.research.google.com/github/Halkas6974/test3/blob/main/%EC%A3%BC%EC%A0%9C2%EA%B3%BC%EC%9D%BC%EA%B2%80%EC%B6%9C.ipynb\" target=\"_parent\"><img src=\"https://colab.research.google.com/assets/colab-badge.svg\" alt=\"Open In Colab\"/></a>"
      ]
    },
    {
      "cell_type": "code",
      "execution_count": 1,
      "metadata": {
        "colab": {
          "base_uri": "https://localhost:8080/"
        },
        "id": "O_xX1iakuD4A",
        "outputId": "54ffad3f-cf9a-4ad8-bfc5-04369ab8dca9"
      },
      "outputs": [
        {
          "output_type": "stream",
          "name": "stdout",
          "text": [
            "Mounted at ./MyDrive\n"
          ]
        }
      ],
      "source": [
        "from google.colab import drive\n",
        "drive.mount ('./MyDrive')"
      ]
    },
    {
      "cell_type": "code",
      "source": [
        "cd MyDrive/MyDrive"
      ],
      "metadata": {
        "colab": {
          "base_uri": "https://localhost:8080/"
        },
        "id": "koUldZcbuUDo",
        "outputId": "fbbf2dc8-5adc-44b6-c5c5-52fbe10780a5"
      },
      "execution_count": 2,
      "outputs": [
        {
          "output_type": "stream",
          "name": "stdout",
          "text": [
            "/content/MyDrive/MyDrive\n"
          ]
        }
      ]
    },
    {
      "cell_type": "code",
      "source": [
        "import os\n",
        "import sys\n",
        "import cv2\n",
        "import numpy as np\n",
        "from glob import glob"
      ],
      "metadata": {
        "id": "jD2PAA-euXK2"
      },
      "execution_count": 3,
      "outputs": []
    },
    {
      "cell_type": "code",
      "source": [
        "class preprocessing:\n",
        "    def __init__(self, resize_size):\n",
        "        self.resize_size = resize_size\n",
        "    \n",
        "    def resize(self, img):\n",
        "        resize_img = cv2.resize(img, (self.resize_size, self.resize_size))\n",
        "        return resize_img\n",
        "    \n",
        "    def normalize_img(self, img):\n",
        "        norm_img = img / 255.0\n",
        "        return norm_img"
      ],
      "metadata": {
        "id": "5IwyF_1zuaDe"
      },
      "execution_count": 4,
      "outputs": []
    },
    {
      "cell_type": "code",
      "source": [
        "datapath = '/content/MyDrive/MyDrive/archive (2)/train_zip/train'\n",
        "img_list = glob(os.path.join(datapath, '*.jpg'))\n",
        "annot_list = glob(os.path.join(datapath, '*.xml'))\n",
        "prepro_img = preprocessing(resize_size=244)\n",
        "\n",
        "for file in img_list:\n",
        "    print(file)\n",
        "    img = cv2.imread(file)\n",
        "    resize_img = prepro_img.resize(img)\n",
        "    norm_img = prepro_img.normalize_img(resize_img)"
      ],
      "metadata": {
        "colab": {
          "base_uri": "https://localhost:8080/"
        },
        "id": "bn4MJe4audxW",
        "outputId": "0c3564e1-0146-409e-d8ff-2cae8ae8cc6a"
      },
      "execution_count": 6,
      "outputs": [
        {
          "output_type": "stream",
          "name": "stdout",
          "text": [
            "/content/MyDrive/MyDrive/archive (2)/train_zip/train/apple_25.jpg\n",
            "/content/MyDrive/MyDrive/archive (2)/train_zip/train/banana_64.jpg\n",
            "/content/MyDrive/MyDrive/archive (2)/train_zip/train/banana_72.jpg\n",
            "/content/MyDrive/MyDrive/archive (2)/train_zip/train/banana_31.jpg\n",
            "/content/MyDrive/MyDrive/archive (2)/train_zip/train/banana_57.jpg\n",
            "/content/MyDrive/MyDrive/archive (2)/train_zip/train/banana_17.jpg\n",
            "/content/MyDrive/MyDrive/archive (2)/train_zip/train/apple_14.jpg\n",
            "/content/MyDrive/MyDrive/archive (2)/train_zip/train/apple_27.jpg\n",
            "/content/MyDrive/MyDrive/archive (2)/train_zip/train/banana_50.jpg\n",
            "/content/MyDrive/MyDrive/archive (2)/train_zip/train/apple_73.jpg\n",
            "/content/MyDrive/MyDrive/archive (2)/train_zip/train/apple_13.jpg\n",
            "/content/MyDrive/MyDrive/archive (2)/train_zip/train/apple_42.jpg\n",
            "/content/MyDrive/MyDrive/archive (2)/train_zip/train/banana_76.jpg\n",
            "/content/MyDrive/MyDrive/archive (2)/train_zip/train/apple_61.jpg\n",
            "/content/MyDrive/MyDrive/archive (2)/train_zip/train/apple_39.jpg\n",
            "/content/MyDrive/MyDrive/archive (2)/train_zip/train/apple_47.jpg\n",
            "/content/MyDrive/MyDrive/archive (2)/train_zip/train/apple_18.jpg\n",
            "/content/MyDrive/MyDrive/archive (2)/train_zip/train/apple_57.jpg\n",
            "/content/MyDrive/MyDrive/archive (2)/train_zip/train/apple_63.jpg\n",
            "/content/MyDrive/MyDrive/archive (2)/train_zip/train/apple_62.jpg\n",
            "/content/MyDrive/MyDrive/archive (2)/train_zip/train/apple_76.jpg\n",
            "/content/MyDrive/MyDrive/archive (2)/train_zip/train/banana_11.jpg\n",
            "/content/MyDrive/MyDrive/archive (2)/train_zip/train/banana_26.jpg\n",
            "/content/MyDrive/MyDrive/archive (2)/train_zip/train/apple_56.jpg\n",
            "/content/MyDrive/MyDrive/archive (2)/train_zip/train/apple_36.jpg\n",
            "/content/MyDrive/MyDrive/archive (2)/train_zip/train/banana_60.jpg\n",
            "/content/MyDrive/MyDrive/archive (2)/train_zip/train/apple_16.jpg\n",
            "/content/MyDrive/MyDrive/archive (2)/train_zip/train/banana_25.jpg\n",
            "/content/MyDrive/MyDrive/archive (2)/train_zip/train/banana_22.jpg\n",
            "/content/MyDrive/MyDrive/archive (2)/train_zip/train/apple_71.jpg\n",
            "/content/MyDrive/MyDrive/archive (2)/train_zip/train/banana_37.jpg\n",
            "/content/MyDrive/MyDrive/archive (2)/train_zip/train/banana_61.jpg\n",
            "/content/MyDrive/MyDrive/archive (2)/train_zip/train/apple_46.jpg\n",
            "/content/MyDrive/MyDrive/archive (2)/train_zip/train/banana_74.jpg\n",
            "/content/MyDrive/MyDrive/archive (2)/train_zip/train/apple_5.jpg\n",
            "/content/MyDrive/MyDrive/archive (2)/train_zip/train/banana_67.jpg\n",
            "/content/MyDrive/MyDrive/archive (2)/train_zip/train/banana_39.jpg\n",
            "/content/MyDrive/MyDrive/archive (2)/train_zip/train/banana_59.jpg\n",
            "/content/MyDrive/MyDrive/archive (2)/train_zip/train/banana_62.jpg\n",
            "/content/MyDrive/MyDrive/archive (2)/train_zip/train/banana_69.jpg\n",
            "/content/MyDrive/MyDrive/archive (2)/train_zip/train/banana_42.jpg\n",
            "/content/MyDrive/MyDrive/archive (2)/train_zip/train/apple_70.jpg\n",
            "/content/MyDrive/MyDrive/archive (2)/train_zip/train/banana_68.jpg\n",
            "/content/MyDrive/MyDrive/archive (2)/train_zip/train/banana_10.jpg\n",
            "/content/MyDrive/MyDrive/archive (2)/train_zip/train/apple_64.jpg\n",
            "/content/MyDrive/MyDrive/archive (2)/train_zip/train/banana_16.jpg\n",
            "/content/MyDrive/MyDrive/archive (2)/train_zip/train/banana_56.jpg\n",
            "/content/MyDrive/MyDrive/archive (2)/train_zip/train/apple_7.jpg\n",
            "/content/MyDrive/MyDrive/archive (2)/train_zip/train/banana_36.jpg\n",
            "/content/MyDrive/MyDrive/archive (2)/train_zip/train/apple_40.jpg\n",
            "/content/MyDrive/MyDrive/archive (2)/train_zip/train/banana_46.jpg\n",
            "/content/MyDrive/MyDrive/archive (2)/train_zip/train/apple_8.jpg\n",
            "/content/MyDrive/MyDrive/archive (2)/train_zip/train/banana_54.jpg\n",
            "/content/MyDrive/MyDrive/archive (2)/train_zip/train/banana_66.jpg\n",
            "/content/MyDrive/MyDrive/archive (2)/train_zip/train/apple_20.jpg\n",
            "/content/MyDrive/MyDrive/archive (2)/train_zip/train/banana_23.jpg\n",
            "/content/MyDrive/MyDrive/archive (2)/train_zip/train/apple_54.jpg\n",
            "/content/MyDrive/MyDrive/archive (2)/train_zip/train/apple_74.jpg\n",
            "/content/MyDrive/MyDrive/archive (2)/train_zip/train/banana_32.jpg\n",
            "/content/MyDrive/MyDrive/archive (2)/train_zip/train/apple_45.jpg\n",
            "/content/MyDrive/MyDrive/archive (2)/train_zip/train/apple_1.jpg\n",
            "/content/MyDrive/MyDrive/archive (2)/train_zip/train/banana_45.jpg\n",
            "/content/MyDrive/MyDrive/archive (2)/train_zip/train/apple_43.jpg\n",
            "/content/MyDrive/MyDrive/archive (2)/train_zip/train/banana_40.jpg\n",
            "/content/MyDrive/MyDrive/archive (2)/train_zip/train/apple_4.jpg\n",
            "/content/MyDrive/MyDrive/archive (2)/train_zip/train/banana_38.jpg\n",
            "/content/MyDrive/MyDrive/archive (2)/train_zip/train/apple_69.jpg\n",
            "/content/MyDrive/MyDrive/archive (2)/train_zip/train/apple_30.jpg\n",
            "/content/MyDrive/MyDrive/archive (2)/train_zip/train/apple_26.jpg\n",
            "/content/MyDrive/MyDrive/archive (2)/train_zip/train/apple_72.jpg\n",
            "/content/MyDrive/MyDrive/archive (2)/train_zip/train/banana_3.jpg\n",
            "/content/MyDrive/MyDrive/archive (2)/train_zip/train/banana_49.jpg\n",
            "/content/MyDrive/MyDrive/archive (2)/train_zip/train/banana_35.jpg\n",
            "/content/MyDrive/MyDrive/archive (2)/train_zip/train/banana_75.jpg\n",
            "/content/MyDrive/MyDrive/archive (2)/train_zip/train/apple_22.jpg\n",
            "/content/MyDrive/MyDrive/archive (2)/train_zip/train/apple_58.jpg\n",
            "/content/MyDrive/MyDrive/archive (2)/train_zip/train/apple_35.jpg\n",
            "/content/MyDrive/MyDrive/archive (2)/train_zip/train/apple_37.jpg\n",
            "/content/MyDrive/MyDrive/archive (2)/train_zip/train/banana_2.jpg\n",
            "/content/MyDrive/MyDrive/archive (2)/train_zip/train/banana_44.jpg\n",
            "/content/MyDrive/MyDrive/archive (2)/train_zip/train/banana_70.jpg\n",
            "/content/MyDrive/MyDrive/archive (2)/train_zip/train/apple_15.jpg\n",
            "/content/MyDrive/MyDrive/archive (2)/train_zip/train/banana_30.jpg\n",
            "/content/MyDrive/MyDrive/archive (2)/train_zip/train/apple_29.jpg\n",
            "/content/MyDrive/MyDrive/archive (2)/train_zip/train/banana_9.jpg\n",
            "/content/MyDrive/MyDrive/archive (2)/train_zip/train/banana_4.jpg\n",
            "/content/MyDrive/MyDrive/archive (2)/train_zip/train/banana_71.jpg\n",
            "/content/MyDrive/MyDrive/archive (2)/train_zip/train/apple_17.jpg\n",
            "/content/MyDrive/MyDrive/archive (2)/train_zip/train/banana_63.jpg\n",
            "/content/MyDrive/MyDrive/archive (2)/train_zip/train/apple_10.jpg\n",
            "/content/MyDrive/MyDrive/archive (2)/train_zip/train/banana_1.jpg\n",
            "/content/MyDrive/MyDrive/archive (2)/train_zip/train/banana_6.jpg\n",
            "/content/MyDrive/MyDrive/archive (2)/train_zip/train/banana_34.jpg\n",
            "/content/MyDrive/MyDrive/archive (2)/train_zip/train/apple_38.jpg\n",
            "/content/MyDrive/MyDrive/archive (2)/train_zip/train/apple_31.jpg\n",
            "/content/MyDrive/MyDrive/archive (2)/train_zip/train/banana_55.jpg\n",
            "/content/MyDrive/MyDrive/archive (2)/train_zip/train/apple_24.jpg\n",
            "/content/MyDrive/MyDrive/archive (2)/train_zip/train/banana_28.jpg\n",
            "/content/MyDrive/MyDrive/archive (2)/train_zip/train/banana_48.jpg\n",
            "/content/MyDrive/MyDrive/archive (2)/train_zip/train/banana_51.jpg\n",
            "/content/MyDrive/MyDrive/archive (2)/train_zip/train/apple_75.jpg\n",
            "/content/MyDrive/MyDrive/archive (2)/train_zip/train/apple_33.jpg\n",
            "/content/MyDrive/MyDrive/archive (2)/train_zip/train/apple_41.jpg\n",
            "/content/MyDrive/MyDrive/archive (2)/train_zip/train/apple_66.jpg\n",
            "/content/MyDrive/MyDrive/archive (2)/train_zip/train/apple_3.jpg\n",
            "/content/MyDrive/MyDrive/archive (2)/train_zip/train/apple_19.jpg\n",
            "/content/MyDrive/MyDrive/archive (2)/train_zip/train/apple_67.jpg\n",
            "/content/MyDrive/MyDrive/archive (2)/train_zip/train/apple_55.jpg\n",
            "/content/MyDrive/MyDrive/archive (2)/train_zip/train/apple_6.jpg\n",
            "/content/MyDrive/MyDrive/archive (2)/train_zip/train/banana_5.jpg\n",
            "/content/MyDrive/MyDrive/archive (2)/train_zip/train/banana_47.jpg\n",
            "/content/MyDrive/MyDrive/archive (2)/train_zip/train/apple_60.jpg\n",
            "/content/MyDrive/MyDrive/archive (2)/train_zip/train/banana_43.jpg\n",
            "/content/MyDrive/MyDrive/archive (2)/train_zip/train/apple_48.jpg\n",
            "/content/MyDrive/MyDrive/archive (2)/train_zip/train/banana_65.jpg\n",
            "/content/MyDrive/MyDrive/archive (2)/train_zip/train/banana_58.jpg\n",
            "/content/MyDrive/MyDrive/archive (2)/train_zip/train/banana_29.jpg\n",
            "/content/MyDrive/MyDrive/archive (2)/train_zip/train/banana_24.jpg\n",
            "/content/MyDrive/MyDrive/archive (2)/train_zip/train/apple_23.jpg\n",
            "/content/MyDrive/MyDrive/archive (2)/train_zip/train/apple_28.jpg\n",
            "/content/MyDrive/MyDrive/archive (2)/train_zip/train/apple_59.jpg\n",
            "/content/MyDrive/MyDrive/archive (2)/train_zip/train/banana_27.jpg\n",
            "/content/MyDrive/MyDrive/archive (2)/train_zip/train/banana_53.jpg\n",
            "/content/MyDrive/MyDrive/archive (2)/train_zip/train/banana_7.jpg\n",
            "/content/MyDrive/MyDrive/archive (2)/train_zip/train/banana_13.jpg\n",
            "/content/MyDrive/MyDrive/archive (2)/train_zip/train/apple_32.jpg\n",
            "/content/MyDrive/MyDrive/archive (2)/train_zip/train/apple_50.jpg\n",
            "/content/MyDrive/MyDrive/archive (2)/train_zip/train/apple_51.jpg\n",
            "/content/MyDrive/MyDrive/archive (2)/train_zip/train/apple_49.jpg\n",
            "/content/MyDrive/MyDrive/archive (2)/train_zip/train/apple_2.jpg\n",
            "/content/MyDrive/MyDrive/archive (2)/train_zip/train/banana_14.jpg\n",
            "/content/MyDrive/MyDrive/archive (2)/train_zip/train/apple_9.jpg\n",
            "/content/MyDrive/MyDrive/archive (2)/train_zip/train/banana_52.jpg\n",
            "/content/MyDrive/MyDrive/archive (2)/train_zip/train/apple_53.jpg\n",
            "/content/MyDrive/MyDrive/archive (2)/train_zip/train/apple_11.jpg\n",
            "/content/MyDrive/MyDrive/archive (2)/train_zip/train/apple_68.jpg\n",
            "/content/MyDrive/MyDrive/archive (2)/train_zip/train/apple_21.jpg\n",
            "/content/MyDrive/MyDrive/archive (2)/train_zip/train/apple_12.jpg\n",
            "/content/MyDrive/MyDrive/archive (2)/train_zip/train/banana_41.jpg\n",
            "/content/MyDrive/MyDrive/archive (2)/train_zip/train/banana_8.jpg\n",
            "/content/MyDrive/MyDrive/archive (2)/train_zip/train/banana_12.jpg\n",
            "/content/MyDrive/MyDrive/archive (2)/train_zip/train/apple_65.jpg\n",
            "/content/MyDrive/MyDrive/archive (2)/train_zip/train/banana_33.jpg\n",
            "/content/MyDrive/MyDrive/archive (2)/train_zip/train/banana_73.jpg\n",
            "/content/MyDrive/MyDrive/archive (2)/train_zip/train/banana_21.jpg\n",
            "/content/MyDrive/MyDrive/archive (2)/train_zip/train/apple_44.jpg\n",
            "/content/MyDrive/MyDrive/archive (2)/train_zip/train/banana_20.jpg\n",
            "/content/MyDrive/MyDrive/archive (2)/train_zip/train/apple_52.jpg\n",
            "/content/MyDrive/MyDrive/archive (2)/train_zip/train/orange_26.jpg\n",
            "/content/MyDrive/MyDrive/archive (2)/train_zip/train/orange_29.jpg\n",
            "/content/MyDrive/MyDrive/archive (2)/train_zip/train/mixed_7.jpg\n",
            "/content/MyDrive/MyDrive/archive (2)/train_zip/train/mixed_14.jpg\n",
            "/content/MyDrive/MyDrive/archive (2)/train_zip/train/orange_52.jpg\n",
            "/content/MyDrive/MyDrive/archive (2)/train_zip/train/orange_56.jpg\n",
            "/content/MyDrive/MyDrive/archive (2)/train_zip/train/orange_36.jpg\n",
            "/content/MyDrive/MyDrive/archive (2)/train_zip/train/orange_42.jpg\n",
            "/content/MyDrive/MyDrive/archive (2)/train_zip/train/orange_48.jpg\n",
            "/content/MyDrive/MyDrive/archive (2)/train_zip/train/mixed_13.jpg\n",
            "/content/MyDrive/MyDrive/archive (2)/train_zip/train/mixed_16.jpg\n",
            "/content/MyDrive/MyDrive/archive (2)/train_zip/train/orange_9.jpg\n",
            "/content/MyDrive/MyDrive/archive (2)/train_zip/train/mixed_20.jpg\n",
            "/content/MyDrive/MyDrive/archive (2)/train_zip/train/orange_59.jpg\n",
            "/content/MyDrive/MyDrive/archive (2)/train_zip/train/orange_49.jpg\n",
            "/content/MyDrive/MyDrive/archive (2)/train_zip/train/orange_5.jpg\n",
            "/content/MyDrive/MyDrive/archive (2)/train_zip/train/orange_4.jpg\n",
            "/content/MyDrive/MyDrive/archive (2)/train_zip/train/mixed_18.jpg\n",
            "/content/MyDrive/MyDrive/archive (2)/train_zip/train/orange_30.jpg\n",
            "/content/MyDrive/MyDrive/archive (2)/train_zip/train/orange_53.jpg\n",
            "/content/MyDrive/MyDrive/archive (2)/train_zip/train/mixed_10.jpg\n",
            "/content/MyDrive/MyDrive/archive (2)/train_zip/train/orange_72.jpg\n",
            "/content/MyDrive/MyDrive/archive (2)/train_zip/train/orange_12.jpg\n",
            "/content/MyDrive/MyDrive/archive (2)/train_zip/train/mixed_3.jpg\n",
            "/content/MyDrive/MyDrive/archive (2)/train_zip/train/orange_28.jpg\n",
            "/content/MyDrive/MyDrive/archive (2)/train_zip/train/orange_64.jpg\n",
            "/content/MyDrive/MyDrive/archive (2)/train_zip/train/orange_61.jpg\n",
            "/content/MyDrive/MyDrive/archive (2)/train_zip/train/mixed_4.jpg\n",
            "/content/MyDrive/MyDrive/archive (2)/train_zip/train/orange_69.jpg\n",
            "/content/MyDrive/MyDrive/archive (2)/train_zip/train/orange_62.jpg\n",
            "/content/MyDrive/MyDrive/archive (2)/train_zip/train/orange_50.jpg\n",
            "/content/MyDrive/MyDrive/archive (2)/train_zip/train/orange_31.jpg\n",
            "/content/MyDrive/MyDrive/archive (2)/train_zip/train/orange_7.jpg\n",
            "/content/MyDrive/MyDrive/archive (2)/train_zip/train/orange_18.jpg\n",
            "/content/MyDrive/MyDrive/archive (2)/train_zip/train/orange_27.jpg\n",
            "/content/MyDrive/MyDrive/archive (2)/train_zip/train/orange_11.jpg\n",
            "/content/MyDrive/MyDrive/archive (2)/train_zip/train/orange_71.jpg\n",
            "/content/MyDrive/MyDrive/archive (2)/train_zip/train/orange_10.jpg\n",
            "/content/MyDrive/MyDrive/archive (2)/train_zip/train/orange_43.jpg\n",
            "/content/MyDrive/MyDrive/archive (2)/train_zip/train/mixed_1.jpg\n",
            "/content/MyDrive/MyDrive/archive (2)/train_zip/train/orange_34.jpg\n",
            "/content/MyDrive/MyDrive/archive (2)/train_zip/train/orange_35.jpg\n",
            "/content/MyDrive/MyDrive/archive (2)/train_zip/train/orange_22.jpg\n",
            "/content/MyDrive/MyDrive/archive (2)/train_zip/train/orange_24.jpg\n",
            "/content/MyDrive/MyDrive/archive (2)/train_zip/train/orange_67.jpg\n",
            "/content/MyDrive/MyDrive/archive (2)/train_zip/train/mixed_11.jpg\n",
            "/content/MyDrive/MyDrive/archive (2)/train_zip/train/orange_60.jpg\n",
            "/content/MyDrive/MyDrive/archive (2)/train_zip/train/orange_40.jpg\n",
            "/content/MyDrive/MyDrive/archive (2)/train_zip/train/orange_1.jpg\n",
            "/content/MyDrive/MyDrive/archive (2)/train_zip/train/orange_46.jpg\n",
            "/content/MyDrive/MyDrive/archive (2)/train_zip/train/mixed_19.jpg\n",
            "/content/MyDrive/MyDrive/archive (2)/train_zip/train/orange_19.jpg\n",
            "/content/MyDrive/MyDrive/archive (2)/train_zip/train/orange_55.jpg\n",
            "/content/MyDrive/MyDrive/archive (2)/train_zip/train/orange_54.jpg\n",
            "/content/MyDrive/MyDrive/archive (2)/train_zip/train/orange_6.jpg\n",
            "/content/MyDrive/MyDrive/archive (2)/train_zip/train/orange_23.jpg\n",
            "/content/MyDrive/MyDrive/archive (2)/train_zip/train/orange_51.jpg\n",
            "/content/MyDrive/MyDrive/archive (2)/train_zip/train/orange_20.jpg\n",
            "/content/MyDrive/MyDrive/archive (2)/train_zip/train/mixed_8.jpg\n",
            "/content/MyDrive/MyDrive/archive (2)/train_zip/train/orange_38.jpg\n",
            "/content/MyDrive/MyDrive/archive (2)/train_zip/train/orange_8.jpg\n",
            "/content/MyDrive/MyDrive/archive (2)/train_zip/train/orange_21.jpg\n",
            "/content/MyDrive/MyDrive/archive (2)/train_zip/train/orange_37.jpg\n",
            "/content/MyDrive/MyDrive/archive (2)/train_zip/train/orange_32.jpg\n",
            "/content/MyDrive/MyDrive/archive (2)/train_zip/train/orange_17.jpg\n",
            "/content/MyDrive/MyDrive/archive (2)/train_zip/train/orange_33.jpg\n",
            "/content/MyDrive/MyDrive/archive (2)/train_zip/train/orange_15.jpg\n",
            "/content/MyDrive/MyDrive/archive (2)/train_zip/train/orange_63.jpg\n",
            "/content/MyDrive/MyDrive/archive (2)/train_zip/train/orange_16.jpg\n",
            "/content/MyDrive/MyDrive/archive (2)/train_zip/train/orange_47.jpg\n",
            "/content/MyDrive/MyDrive/archive (2)/train_zip/train/mixed_2.jpg\n",
            "/content/MyDrive/MyDrive/archive (2)/train_zip/train/orange_41.jpg\n",
            "/content/MyDrive/MyDrive/archive (2)/train_zip/train/orange_75.jpg\n",
            "/content/MyDrive/MyDrive/archive (2)/train_zip/train/orange_68.jpg\n",
            "/content/MyDrive/MyDrive/archive (2)/train_zip/train/orange_76.jpg\n",
            "/content/MyDrive/MyDrive/archive (2)/train_zip/train/orange_25.jpg\n",
            "/content/MyDrive/MyDrive/archive (2)/train_zip/train/orange_3.jpg\n",
            "/content/MyDrive/MyDrive/archive (2)/train_zip/train/orange_2.jpg\n",
            "/content/MyDrive/MyDrive/archive (2)/train_zip/train/mixed_6.jpg\n",
            "/content/MyDrive/MyDrive/archive (2)/train_zip/train/mixed_12.jpg\n",
            "/content/MyDrive/MyDrive/archive (2)/train_zip/train/orange_74.jpg\n",
            "/content/MyDrive/MyDrive/archive (2)/train_zip/train/orange_70.jpg\n",
            "/content/MyDrive/MyDrive/archive (2)/train_zip/train/orange_13.jpg\n",
            "/content/MyDrive/MyDrive/archive (2)/train_zip/train/mixed_5.jpg\n",
            "/content/MyDrive/MyDrive/archive (2)/train_zip/train/mixed_9.jpg\n",
            "/content/MyDrive/MyDrive/archive (2)/train_zip/train/mixed_17.jpg\n",
            "/content/MyDrive/MyDrive/archive (2)/train_zip/train/orange_58.jpg\n",
            "/content/MyDrive/MyDrive/archive (2)/train_zip/train/mixed_15.jpg\n",
            "/content/MyDrive/MyDrive/archive (2)/train_zip/train/orange_73.jpg\n",
            "/content/MyDrive/MyDrive/archive (2)/train_zip/train/orange_44.jpg\n",
            "/content/MyDrive/MyDrive/archive (2)/train_zip/train/orange_14.jpg\n",
            "/content/MyDrive/MyDrive/archive (2)/train_zip/train/orange_57.jpg\n"
          ]
        }
      ]
    },
    {
      "cell_type": "code",
      "source": [
        "import os\n",
        "import glob\n",
        "import matplotlib.pyplot as plt\n",
        "import matplotlib.image as mpimg\n",
        "import matplotlib.patches as patches\n",
        "from bs4 import BeautifulSoup"
      ],
      "metadata": {
        "id": "2SKdh4lLuysK"
      },
      "execution_count": 7,
      "outputs": []
    },
    {
      "cell_type": "code",
      "source": [
        "print(len(img_list))\n",
        "print(len(annot_list))"
      ],
      "metadata": {
        "colab": {
          "base_uri": "https://localhost:8080/"
        },
        "id": "bfNuh8xBvAoq",
        "outputId": "9b65edc0-0380-4031-e9e3-cfc6505aae35"
      },
      "execution_count": 8,
      "outputs": [
        {
          "output_type": "stream",
          "name": "stdout",
          "text": [
            "240\n",
            "240\n"
          ]
        }
      ]
    },
    {
      "cell_type": "code",
      "source": [
        "img_list.sort(reverse=True)\n",
        "annot_list.sort(reverse=True)\n",
        "print(img_list[:10])\n",
        "print(annot_list[:10])"
      ],
      "metadata": {
        "colab": {
          "base_uri": "https://localhost:8080/"
        },
        "id": "BYrnqBKmvGCC",
        "outputId": "0668287a-55c8-4447-c251-1239cc7e61fc"
      },
      "execution_count": 9,
      "outputs": [
        {
          "output_type": "stream",
          "name": "stdout",
          "text": [
            "['/content/MyDrive/MyDrive/archive (2)/train_zip/train/orange_9.jpg', '/content/MyDrive/MyDrive/archive (2)/train_zip/train/orange_8.jpg', '/content/MyDrive/MyDrive/archive (2)/train_zip/train/orange_76.jpg', '/content/MyDrive/MyDrive/archive (2)/train_zip/train/orange_75.jpg', '/content/MyDrive/MyDrive/archive (2)/train_zip/train/orange_74.jpg', '/content/MyDrive/MyDrive/archive (2)/train_zip/train/orange_73.jpg', '/content/MyDrive/MyDrive/archive (2)/train_zip/train/orange_72.jpg', '/content/MyDrive/MyDrive/archive (2)/train_zip/train/orange_71.jpg', '/content/MyDrive/MyDrive/archive (2)/train_zip/train/orange_70.jpg', '/content/MyDrive/MyDrive/archive (2)/train_zip/train/orange_7.jpg']\n",
            "['/content/MyDrive/MyDrive/archive (2)/train_zip/train/orange_9.xml', '/content/MyDrive/MyDrive/archive (2)/train_zip/train/orange_8.xml', '/content/MyDrive/MyDrive/archive (2)/train_zip/train/orange_76.xml', '/content/MyDrive/MyDrive/archive (2)/train_zip/train/orange_75.xml', '/content/MyDrive/MyDrive/archive (2)/train_zip/train/orange_74.xml', '/content/MyDrive/MyDrive/archive (2)/train_zip/train/orange_73.xml', '/content/MyDrive/MyDrive/archive (2)/train_zip/train/orange_72.xml', '/content/MyDrive/MyDrive/archive (2)/train_zip/train/orange_71.xml', '/content/MyDrive/MyDrive/archive (2)/train_zip/train/orange_70.xml', '/content/MyDrive/MyDrive/archive (2)/train_zip/train/orange_7.xml']\n"
          ]
        }
      ]
    },
    {
      "cell_type": "code",
      "source": [
        "def generate_box(obj):\n",
        "    \n",
        "    xmin = float(obj.find('xmin').text)\n",
        "    ymin = float(obj.find('ymin').text)\n",
        "    xmax = float(obj.find('xmax').text)\n",
        "    ymax = float(obj.find('ymax').text)\n",
        "    \n",
        "    return [xmin, ymin, xmax, ymax]\n",
        "\n",
        "def generate_label(obj):\n",
        "    if obj.find('name').text == \"with_mask\":\n",
        "        return 1\n",
        "    elif obj.find('name').text == \"mask_weared_incorrect\":\n",
        "        return 2\n",
        "    return 0\n",
        "\n",
        "def generate_target(file): \n",
        "    with open(file) as f:\n",
        "        data = f.read()\n",
        "        soup = BeautifulSoup(data, \"html.parser\")\n",
        "        objects = soup.find_all(\"object\")\n",
        "\n",
        "        num_objs = len(objects)\n",
        "\n",
        "        boxes = []\n",
        "        labels = []\n",
        "        for i in objects:\n",
        "            boxes.append(generate_box(i))\n",
        "            labels.append(generate_label(i))\n",
        "        \n",
        "        target = {}\n",
        "        target[\"boxes\"] = boxes\n",
        "        target[\"labels\"] = labels\n",
        "        \n",
        "        return target\n",
        "\n",
        "def plot_image(img_path, annotation):\n",
        "    \n",
        "    img = mpimg.imread(img_path)\n",
        "    \n",
        "    fig,ax = plt.subplots(1)\n",
        "    ax.imshow(img)\n",
        "\n",
        "    \n",
        "    for idx in range(len(annotation[\"boxes\"])):\n",
        "        xmin, ymin, xmax, ymax = annotation[\"boxes\"][idx]\n",
        "\n",
        "        if annotation['labels'][idx] == 0 :\n",
        "            rect = patches.Rectangle((xmin,ymin),(xmax-xmin),(ymax-ymin),linewidth=1,edgecolor='r',facecolor='none')\n",
        "        \n",
        "        elif annotation['labels'][idx] == 1 :\n",
        "            \n",
        "            rect = patches.Rectangle((xmin,ymin),(xmax-xmin),(ymax-ymin),linewidth=1,edgecolor='g',facecolor='none')\n",
        "            \n",
        "        else :\n",
        "        \n",
        "            rect = patches.Rectangle((xmin,ymin),(xmax-xmin),(ymax-ymin),linewidth=1,edgecolor='orange',facecolor='none')\n",
        "\n",
        "        ax.add_patch(rect)\n",
        "\n",
        "    plt.show()"
      ],
      "metadata": {
        "id": "RTccsUHWvKKA"
      },
      "execution_count": 10,
      "outputs": []
    },
    {
      "cell_type": "code",
      "source": [
        "import random\n",
        "\n",
        "a = random.randrange(0, 239)\n",
        "\n",
        "bbox = generate_target(annot_list[a])\n",
        "plot_image(img_list[a], bbox)"
      ],
      "metadata": {
        "colab": {
          "base_uri": "https://localhost:8080/",
          "height": 269
        },
        "id": "xYFU8RrBvRXq",
        "outputId": "acce1ef0-0365-4614-a193-fdc4aa1c4198"
      },
      "execution_count": 11,
      "outputs": [
        {
          "output_type": "display_data",
          "data": {
            "text/plain": [
              "<Figure size 432x288 with 1 Axes>"
            ],
            "image/png": "[encoded data removed]"
          },
          "metadata": {
            "needs_background": "light"
          }
        }
      ]
    }
  ]
}